{
 "cells": [
  {
   "cell_type": "code",
   "execution_count": 45,
   "metadata": {
    "collapsed": false
   },
   "outputs": [],
   "source": [
    "library(lattice)\n",
    "library(dplyr)\n",
    "library(reshape2)\n",
    "\n",
    "ad=read.csv2(\"C:\\\\Users\\\\Daniel\\\\Google Drive\\\\Projects\\\\MYB case\\\\ACCOUNTDATA_TRAIN.CSV\",sep = ',')\n",
    "cd=read.csv2(\"C:\\\\Users\\\\Daniel\\\\Google Drive\\\\Projects\\\\MYB case\\\\CALLDENTREDATA_TRAIN.CSV\",sep = ',',stringsAsFactors = FALSE)\n",
    "td=read.csv2(\"C:\\\\Users\\\\Daniel\\\\Google Drive\\\\Projects\\\\MYB case\\\\CUSTOMERDATA_TRAIN.CSV\",sep = ',',stringsAsFactors = FALSE)\n",
    "ld=read.csv2(\"C:\\\\Users\\\\Daniel\\\\Google Drive\\\\Projects\\\\MYB case\\\\LEASINGDATA_TRAIN.CSV\",sep = ',')\n",
    "sd=read.csv2(\"C:\\\\Users\\\\Daniel\\\\Google Drive\\\\Projects\\\\MYB case\\\\SCOREDATA_TRAIN.CSV\",sep = ',')"
   ]
  },
  {
   "cell_type": "code",
   "execution_count": 13,
   "metadata": {
    "collapsed": false
   },
   "outputs": [
    {
     "data": {
      "text/html": [
       "<table>\n",
       "<thead><tr><th scope=col>CustID</th><th scope=col>AccountID</th><th scope=col>Balance</th><th scope=col>Interest</th><th scope=col>Type</th></tr></thead>\n",
       "<tbody>\n",
       "\t<tr><td>1000006</td><td>21592  </td><td>2376.43</td><td>2      </td><td>Funds  </td></tr>\n",
       "\t<tr><td>1000007</td><td>16789  </td><td>1812.72</td><td>5      </td><td>Funds  </td></tr>\n",
       "\t<tr><td>1000008</td><td>15567  </td><td>3350.65</td><td>2      </td><td>Funds  </td></tr>\n",
       "\t<tr><td>1000009</td><td>11907  </td><td>1191.82</td><td>4      </td><td>Funds  </td></tr>\n",
       "\t<tr><td>1000018</td><td>20703  </td><td>0      </td><td>2      </td><td>Funds  </td></tr>\n",
       "\t<tr><td>1000019</td><td> 5065  </td><td>1487.97</td><td>3      </td><td>Funds  </td></tr>\n",
       "</tbody>\n",
       "</table>\n"
      ],
      "text/latex": [
       "\\begin{tabular}{r|lllll}\n",
       " CustID & AccountID & Balance & Interest & Type\\\\\n",
       "\\hline\n",
       "\t 1000006 & 21592   & 2376.43 & 2       & Funds  \\\\\n",
       "\t 1000007 & 16789   & 1812.72 & 5       & Funds  \\\\\n",
       "\t 1000008 & 15567   & 3350.65 & 2       & Funds  \\\\\n",
       "\t 1000009 & 11907   & 1191.82 & 4       & Funds  \\\\\n",
       "\t 1000018 & 20703   & 0       & 2       & Funds  \\\\\n",
       "\t 1000019 &  5065   & 1487.97 & 3       & Funds  \\\\\n",
       "\\end{tabular}\n"
      ],
      "text/markdown": [
       "\n",
       "CustID | AccountID | Balance | Interest | Type | \n",
       "|---|---|---|---|---|---|\n",
       "| 1000006 | 21592   | 2376.43 | 2       | Funds   | \n",
       "| 1000007 | 16789   | 1812.72 | 5       | Funds   | \n",
       "| 1000008 | 15567   | 3350.65 | 2       | Funds   | \n",
       "| 1000009 | 11907   | 1191.82 | 4       | Funds   | \n",
       "| 1000018 | 20703   | 0       | 2       | Funds   | \n",
       "| 1000019 |  5065   | 1487.97 | 3       | Funds   | \n",
       "\n",
       "\n"
      ],
      "text/plain": [
       "  CustID  AccountID Balance Interest Type \n",
       "1 1000006 21592     2376.43 2        Funds\n",
       "2 1000007 16789     1812.72 5        Funds\n",
       "3 1000008 15567     3350.65 2        Funds\n",
       "4 1000009 11907     1191.82 4        Funds\n",
       "5 1000018 20703     0       2        Funds\n",
       "6 1000019  5065     1487.97 3        Funds"
      ]
     },
     "metadata": {},
     "output_type": "display_data"
    }
   ],
   "source": [
    "#account data\n",
    "head(ad)"
   ]
  },
  {
   "cell_type": "code",
   "execution_count": 21,
   "metadata": {
    "collapsed": false
   },
   "outputs": [
    {
     "data": {
      "text/html": [
       "FALSE"
      ],
      "text/latex": [
       "FALSE"
      ],
      "text/markdown": [
       "FALSE"
      ],
      "text/plain": [
       "[1] FALSE"
      ]
     },
     "metadata": {},
     "output_type": "display_data"
    }
   ],
   "source": [
    "any(is.na(ad))"
   ]
  },
  {
   "cell_type": "code",
   "execution_count": 22,
   "metadata": {
    "collapsed": false
   },
   "outputs": [
    {
     "data": {
      "image/png": "[encoded data removed]",
      "text/plain": [
       "Plot with title \"Account Type\""
      ]
     },
     "metadata": {},
     "output_type": "display_data"
    }
   ],
   "source": [
    "barplot(sort(table(ad$Type),decreasing = TRUE), main = 'Account Type',xlab = 'Type of Account',ylab = 'Frequency',col='pink')"
   ]
  },
  {
   "cell_type": "code",
   "execution_count": 33,
   "metadata": {
    "collapsed": false
   },
   "outputs": [
    {
     "name": "stderr",
     "output_type": "stream",
     "text": [
      "Using Type as value column: use value.var to override.\n",
      "Aggregation function missing: defaulting to length\n"
     ]
    },
    {
     "data": {
      "text/html": [
       "<table>\n",
       "<thead><tr><th scope=col>CustID</th><th scope=col>Funds</th><th scope=col>Loan</th><th scope=col>Saving Account</th></tr></thead>\n",
       "<tbody>\n",
       "\t<tr><td>1000002</td><td>0      </td><td>1      </td><td>1      </td></tr>\n",
       "\t<tr><td>1000005</td><td>0      </td><td>0      </td><td>1      </td></tr>\n",
       "\t<tr><td>1000006</td><td>1      </td><td>0      </td><td>0      </td></tr>\n",
       "\t<tr><td>1000007</td><td>1      </td><td>0      </td><td>1      </td></tr>\n",
       "\t<tr><td>1000008</td><td>1      </td><td>0      </td><td>0      </td></tr>\n",
       "\t<tr><td>1000009</td><td>1      </td><td>1      </td><td>1      </td></tr>\n",
       "</tbody>\n",
       "</table>\n"
      ],
      "text/latex": [
       "\\begin{tabular}{r|llll}\n",
       " CustID & Funds & Loan & Saving Account\\\\\n",
       "\\hline\n",
       "\t 1000002 & 0       & 1       & 1      \\\\\n",
       "\t 1000005 & 0       & 0       & 1      \\\\\n",
       "\t 1000006 & 1       & 0       & 0      \\\\\n",
       "\t 1000007 & 1       & 0       & 1      \\\\\n",
       "\t 1000008 & 1       & 0       & 0      \\\\\n",
       "\t 1000009 & 1       & 1       & 1      \\\\\n",
       "\\end{tabular}\n"
      ],
      "text/markdown": [
       "\n",
       "CustID | Funds | Loan | Saving Account | \n",
       "|---|---|---|---|---|---|\n",
       "| 1000002 | 0       | 1       | 1       | \n",
       "| 1000005 | 0       | 0       | 1       | \n",
       "| 1000006 | 1       | 0       | 0       | \n",
       "| 1000007 | 1       | 0       | 1       | \n",
       "| 1000008 | 1       | 0       | 0       | \n",
       "| 1000009 | 1       | 1       | 1       | \n",
       "\n",
       "\n"
      ],
      "text/plain": [
       "  CustID  Funds Loan Saving Account\n",
       "1 1000002 0     1    1             \n",
       "2 1000005 0     0    1             \n",
       "3 1000006 1     0    0             \n",
       "4 1000007 1     0    1             \n",
       "5 1000008 1     0    0             \n",
       "6 1000009 1     1    1             "
      ]
     },
     "metadata": {},
     "output_type": "display_data"
    }
   ],
   "source": [
    "ad1=dcast(ad,CustID~Type)\n",
    "head(ad1)"
   ]
  },
  {
   "cell_type": "code",
   "execution_count": 34,
   "metadata": {
    "collapsed": false
   },
   "outputs": [
    {
     "data": {
      "text/html": [
       "<table>\n",
       "<thead><tr><th scope=col>CustID</th><th scope=col>ContactID</th><th scope=col>Date</th><th scope=col>Agent</th><th scope=col>Category</th><th scope=col>Day</th><th scope=col>Month</th></tr></thead>\n",
       "<tbody>\n",
       "\t<tr><td>1000014           </td><td>2                 </td><td>08APR2014:00:00:00</td><td>94                </td><td>Complaint         </td><td> 8                </td><td>APR               </td></tr>\n",
       "\t<tr><td>1000014           </td><td>3                 </td><td>02MAR2014:00:00:00</td><td>56                </td><td>Complaint         </td><td> 2                </td><td>MAR               </td></tr>\n",
       "\t<tr><td>1000018           </td><td>4                 </td><td>12JUN2014:00:00:00</td><td>28                </td><td>Telebanking       </td><td>12                </td><td>JUN               </td></tr>\n",
       "\t<tr><td>1000028           </td><td>5                 </td><td>23FEB2014:00:00:00</td><td>36                </td><td>Telebanking       </td><td>23                </td><td>FEB               </td></tr>\n",
       "\t<tr><td>1000034           </td><td>6                 </td><td>20MAR2014:00:00:00</td><td>24                </td><td>Telebanking       </td><td>20                </td><td>MAR               </td></tr>\n",
       "\t<tr><td>1000035           </td><td>7                 </td><td>24MAY2014:00:00:00</td><td>21                </td><td>Telebanking       </td><td>24                </td><td>MAY               </td></tr>\n",
       "</tbody>\n",
       "</table>\n"
      ],
      "text/latex": [
       "\\begin{tabular}{r|lllllll}\n",
       " CustID & ContactID & Date & Agent & Category & Day & Month\\\\\n",
       "\\hline\n",
       "\t 1000014            & 2                  & 08APR2014:00:00:00 & 94                 & Complaint          &  8                 & APR               \\\\\n",
       "\t 1000014            & 3                  & 02MAR2014:00:00:00 & 56                 & Complaint          &  2                 & MAR               \\\\\n",
       "\t 1000018            & 4                  & 12JUN2014:00:00:00 & 28                 & Telebanking        & 12                 & JUN               \\\\\n",
       "\t 1000028            & 5                  & 23FEB2014:00:00:00 & 36                 & Telebanking        & 23                 & FEB               \\\\\n",
       "\t 1000034            & 6                  & 20MAR2014:00:00:00 & 24                 & Telebanking        & 20                 & MAR               \\\\\n",
       "\t 1000035            & 7                  & 24MAY2014:00:00:00 & 21                 & Telebanking        & 24                 & MAY               \\\\\n",
       "\\end{tabular}\n"
      ],
      "text/markdown": [
       "\n",
       "CustID | ContactID | Date | Agent | Category | Day | Month | \n",
       "|---|---|---|---|---|---|\n",
       "| 1000014            | 2                  | 08APR2014:00:00:00 | 94                 | Complaint          |  8                 | APR                | \n",
       "| 1000014            | 3                  | 02MAR2014:00:00:00 | 56                 | Complaint          |  2                 | MAR                | \n",
       "| 1000018            | 4                  | 12JUN2014:00:00:00 | 28                 | Telebanking        | 12                 | JUN                | \n",
       "| 1000028            | 5                  | 23FEB2014:00:00:00 | 36                 | Telebanking        | 23                 | FEB                | \n",
       "| 1000034            | 6                  | 20MAR2014:00:00:00 | 24                 | Telebanking        | 20                 | MAR                | \n",
       "| 1000035            | 7                  | 24MAY2014:00:00:00 | 21                 | Telebanking        | 24                 | MAY                | \n",
       "\n",
       "\n"
      ],
      "text/plain": [
       "  CustID  ContactID Date               Agent Category    Day Month\n",
       "1 1000014 2         08APR2014:00:00:00 94    Complaint    8  APR  \n",
       "2 1000014 3         02MAR2014:00:00:00 56    Complaint    2  MAR  \n",
       "3 1000018 4         12JUN2014:00:00:00 28    Telebanking 12  JUN  \n",
       "4 1000028 5         23FEB2014:00:00:00 36    Telebanking 23  FEB  \n",
       "5 1000034 6         20MAR2014:00:00:00 24    Telebanking 20  MAR  \n",
       "6 1000035 7         24MAY2014:00:00:00 21    Telebanking 24  MAY  "
      ]
     },
     "metadata": {},
     "output_type": "display_data"
    }
   ],
   "source": [
    "head(cd)"
   ]
  },
  {
   "cell_type": "code",
   "execution_count": 38,
   "metadata": {
    "collapsed": false
   },
   "outputs": [
    {
     "data": {},
     "metadata": {},
     "output_type": "display_data"
    },
    {
     "data": {
      "image/png": "[encoded data removed]",
      "text/plain": [
       "plot without title"
      ]
     },
     "metadata": {},
     "output_type": "display_data"
    }
   ],
   "source": [
    "#call center data\n",
    "cd$Day=substr(cd$Date,start = 1,stop = 2)\n",
    "cd$Day=as.numeric(cd$Day)\n",
    "cd$Month=substr(cd$Date,start = 3,stop = 5)\n",
    "cd=filter(cd,Month!='JUL')\n",
    "cd_mode=sort(table(cd$Category))\n",
    "barchart(cd_mode,horizontal = FALSE,main='Call Category Comparison',xlab='Call Category',ylab='Frequency',decreasing=FALSE)"
   ]
  },
  {
   "cell_type": "code",
   "execution_count": 36,
   "metadata": {
    "collapsed": false
   },
   "outputs": [
    {
     "name": "stderr",
     "output_type": "stream",
     "text": [
      "Using Month as value column: use value.var to override.\n",
      "Aggregation function missing: defaulting to length\n"
     ]
    },
    {
     "data": {
      "text/html": [
       "<table>\n",
       "<thead><tr><th scope=col>CustID</th><th scope=col>Complaint</th><th scope=col>Request</th><th scope=col>Telebanking</th></tr></thead>\n",
       "<tbody>\n",
       "\t<tr><td>1000014</td><td>2      </td><td>0      </td><td>0      </td></tr>\n",
       "\t<tr><td>1000018</td><td>0      </td><td>0      </td><td>1      </td></tr>\n",
       "\t<tr><td>1000028</td><td>0      </td><td>0      </td><td>1      </td></tr>\n",
       "\t<tr><td>1000034</td><td>0      </td><td>0      </td><td>1      </td></tr>\n",
       "\t<tr><td>1000035</td><td>0      </td><td>0      </td><td>2      </td></tr>\n",
       "\t<tr><td>1000037</td><td>1      </td><td>0      </td><td>0      </td></tr>\n",
       "</tbody>\n",
       "</table>\n"
      ],
      "text/latex": [
       "\\begin{tabular}{r|llll}\n",
       " CustID & Complaint & Request & Telebanking\\\\\n",
       "\\hline\n",
       "\t 1000014 & 2       & 0       & 0      \\\\\n",
       "\t 1000018 & 0       & 0       & 1      \\\\\n",
       "\t 1000028 & 0       & 0       & 1      \\\\\n",
       "\t 1000034 & 0       & 0       & 1      \\\\\n",
       "\t 1000035 & 0       & 0       & 2      \\\\\n",
       "\t 1000037 & 1       & 0       & 0      \\\\\n",
       "\\end{tabular}\n"
      ],
      "text/markdown": [
       "\n",
       "CustID | Complaint | Request | Telebanking | \n",
       "|---|---|---|---|---|---|\n",
       "| 1000014 | 2       | 0       | 0       | \n",
       "| 1000018 | 0       | 0       | 1       | \n",
       "| 1000028 | 0       | 0       | 1       | \n",
       "| 1000034 | 0       | 0       | 1       | \n",
       "| 1000035 | 0       | 0       | 2       | \n",
       "| 1000037 | 1       | 0       | 0       | \n",
       "\n",
       "\n"
      ],
      "text/plain": [
       "  CustID  Complaint Request Telebanking\n",
       "1 1000014 2         0       0          \n",
       "2 1000018 0         0       1          \n",
       "3 1000028 0         0       1          \n",
       "4 1000034 0         0       1          \n",
       "5 1000035 0         0       2          \n",
       "6 1000037 1         0       0          "
      ]
     },
     "metadata": {},
     "output_type": "display_data"
    }
   ],
   "source": [
    "cd1=dcast(cd,CustID~Category+)\n",
    "head(cd1)"
   ]
  },
  {
   "cell_type": "code",
   "execution_count": 39,
   "metadata": {
    "collapsed": false
   },
   "outputs": [
    {
     "data": {},
     "metadata": {},
     "output_type": "display_data"
    },
    {
     "data": {
      "image/png": "[encoded data removed]",
      "text/plain": [
       "plot without title"
      ]
     },
     "metadata": {},
     "output_type": "display_data"
    }
   ],
   "source": [
    "#customer data\n",
    "barchart(sort(table(td$Branch)),horizontal=FALSE,main='Branch Comparison',xlab='Branches',ylab='Frequency',ylim=c(0:11000))"
   ]
  },
  {
   "cell_type": "code",
   "execution_count": 40,
   "metadata": {
    "collapsed": false,
    "scrolled": true
   },
   "outputs": [
    {
     "data": {},
     "metadata": {},
     "output_type": "display_data"
    },
    {
     "data": {
      "image/png": "[encoded data removed]",
      "text/plain": [
       "plot without title"
      ]
     },
     "metadata": {},
     "output_type": "display_data"
    }
   ],
   "source": [
    "barchart(sort(table(td$MaritalStatus)),horizontal=FALSE,main='Marriage Status Comparison',xlab='Marriage Status',ylab='Frequency',ylim=c(0:13000))"
   ]
  },
  {
   "cell_type": "code",
   "execution_count": 46,
   "metadata": {
    "collapsed": false
   },
   "outputs": [
    {
     "data": {
      "text/html": [
       "<table>\n",
       "<thead><tr><th scope=col>CustID</th><th scope=col>Birthdate</th><th scope=col>Title</th><th scope=col>Branch</th><th scope=col>CustomerSince</th><th scope=col>Gender</th><th scope=col>MaritalStatus</th></tr></thead>\n",
       "<tbody>\n",
       "\t<tr><td>1000002  </td><td>26DEC1958</td><td>         </td><td>Fil1     </td><td>01JAN2000</td><td>Male     </td><td>Married  </td></tr>\n",
       "\t<tr><td>1000005  </td><td>25JUN1947</td><td>Ing.     </td><td>Fil4     </td><td>01APR1999</td><td>Male     </td><td>Single   </td></tr>\n",
       "\t<tr><td>1000006  </td><td>10DEC1945</td><td>         </td><td>Fil4     </td><td>01SEP1996</td><td>Female   </td><td>Married  </td></tr>\n",
       "\t<tr><td>1000007  </td><td>02JUN1934</td><td>         </td><td>Fil1     </td><td>01SEP1997</td><td>Male     </td><td>Married  </td></tr>\n",
       "\t<tr><td>1000008  </td><td>15DEC1957</td><td>Dr.      </td><td>Fil3     </td><td>01JAN1996</td><td>Male     </td><td>Single   </td></tr>\n",
       "\t<tr><td>1000009  </td><td>11MAR1959</td><td>         </td><td>Fil2     </td><td>01JUL2001</td><td>Male     </td><td>Single   </td></tr>\n",
       "</tbody>\n",
       "</table>\n"
      ],
      "text/latex": [
       "\\begin{tabular}{r|lllllll}\n",
       " CustID & Birthdate & Title & Branch & CustomerSince & Gender & MaritalStatus\\\\\n",
       "\\hline\n",
       "\t 1000002   & 26DEC1958 &           & Fil1      & 01JAN2000 & Male      & Married  \\\\\n",
       "\t 1000005   & 25JUN1947 & Ing.      & Fil4      & 01APR1999 & Male      & Single   \\\\\n",
       "\t 1000006   & 10DEC1945 &           & Fil4      & 01SEP1996 & Female    & Married  \\\\\n",
       "\t 1000007   & 02JUN1934 &           & Fil1      & 01SEP1997 & Male      & Married  \\\\\n",
       "\t 1000008   & 15DEC1957 & Dr.       & Fil3      & 01JAN1996 & Male      & Single   \\\\\n",
       "\t 1000009   & 11MAR1959 &           & Fil2      & 01JUL2001 & Male      & Single   \\\\\n",
       "\\end{tabular}\n"
      ],
      "text/markdown": [
       "\n",
       "CustID | Birthdate | Title | Branch | CustomerSince | Gender | MaritalStatus | \n",
       "|---|---|---|---|---|---|\n",
       "| 1000002   | 26DEC1958 |           | Fil1      | 01JAN2000 | Male      | Married   | \n",
       "| 1000005   | 25JUN1947 | Ing.      | Fil4      | 01APR1999 | Male      | Single    | \n",
       "| 1000006   | 10DEC1945 |           | Fil4      | 01SEP1996 | Female    | Married   | \n",
       "| 1000007   | 02JUN1934 |           | Fil1      | 01SEP1997 | Male      | Married   | \n",
       "| 1000008   | 15DEC1957 | Dr.       | Fil3      | 01JAN1996 | Male      | Single    | \n",
       "| 1000009   | 11MAR1959 |           | Fil2      | 01JUL2001 | Male      | Single    | \n",
       "\n",
       "\n"
      ],
      "text/plain": [
       "  CustID  Birthdate Title Branch CustomerSince Gender MaritalStatus\n",
       "1 1000002 26DEC1958       Fil1   01JAN2000     Male   Married      \n",
       "2 1000005 25JUN1947 Ing.  Fil4   01APR1999     Male   Single       \n",
       "3 1000006 10DEC1945       Fil4   01SEP1996     Female Married      \n",
       "4 1000007 02JUN1934       Fil1   01SEP1997     Male   Married      \n",
       "5 1000008 15DEC1957 Dr.   Fil3   01JAN1996     Male   Single       \n",
       "6 1000009 11MAR1959       Fil2   01JUL2001     Male   Single       "
      ]
     },
     "metadata": {},
     "output_type": "display_data"
    }
   ],
   "source": [
    "head(td)"
   ]
  },
  {
   "cell_type": "code",
   "execution_count": 47,
   "metadata": {
    "collapsed": false
   },
   "outputs": [
    {
     "data": {
      "text/html": [
       "<table>\n",
       "<thead><tr><th scope=col>CustID</th><th scope=col>Birthdate</th><th scope=col>Title</th><th scope=col>Branch</th><th scope=col>CustomerSince</th><th scope=col>Gender</th><th scope=col>MaritalStatus</th><th scope=col>Age</th><th scope=col>Royalty</th></tr></thead>\n",
       "<tbody>\n",
       "\t<tr><td>1000002</td><td>1958   </td><td>       </td><td>Fil1   </td><td>2000   </td><td>Male   </td><td>Married</td><td>59     </td><td>17     </td></tr>\n",
       "\t<tr><td>1000005</td><td>1947   </td><td>Ing.   </td><td>Fil4   </td><td>1999   </td><td>Male   </td><td>Single </td><td>70     </td><td>18     </td></tr>\n",
       "\t<tr><td>1000006</td><td>1945   </td><td>       </td><td>Fil4   </td><td>1996   </td><td>Female </td><td>Married</td><td>72     </td><td>21     </td></tr>\n",
       "\t<tr><td>1000007</td><td>1934   </td><td>       </td><td>Fil1   </td><td>1997   </td><td>Male   </td><td>Married</td><td>83     </td><td>20     </td></tr>\n",
       "\t<tr><td>1000008</td><td>1957   </td><td>Dr.    </td><td>Fil3   </td><td>1996   </td><td>Male   </td><td>Single </td><td>60     </td><td>21     </td></tr>\n",
       "\t<tr><td>1000009</td><td>1959   </td><td>       </td><td>Fil2   </td><td>2001   </td><td>Male   </td><td>Single </td><td>58     </td><td>16     </td></tr>\n",
       "</tbody>\n",
       "</table>\n"
      ],
      "text/latex": [
       "\\begin{tabular}{r|lllllllll}\n",
       " CustID & Birthdate & Title & Branch & CustomerSince & Gender & MaritalStatus & Age & Royalty\\\\\n",
       "\\hline\n",
       "\t 1000002 & 1958    &         & Fil1    & 2000    & Male    & Married & 59      & 17     \\\\\n",
       "\t 1000005 & 1947    & Ing.    & Fil4    & 1999    & Male    & Single  & 70      & 18     \\\\\n",
       "\t 1000006 & 1945    &         & Fil4    & 1996    & Female  & Married & 72      & 21     \\\\\n",
       "\t 1000007 & 1934    &         & Fil1    & 1997    & Male    & Married & 83      & 20     \\\\\n",
       "\t 1000008 & 1957    & Dr.     & Fil3    & 1996    & Male    & Single  & 60      & 21     \\\\\n",
       "\t 1000009 & 1959    &         & Fil2    & 2001    & Male    & Single  & 58      & 16     \\\\\n",
       "\\end{tabular}\n"
      ],
      "text/markdown": [
       "\n",
       "CustID | Birthdate | Title | Branch | CustomerSince | Gender | MaritalStatus | Age | Royalty | \n",
       "|---|---|---|---|---|---|\n",
       "| 1000002 | 1958    |         | Fil1    | 2000    | Male    | Married | 59      | 17      | \n",
       "| 1000005 | 1947    | Ing.    | Fil4    | 1999    | Male    | Single  | 70      | 18      | \n",
       "| 1000006 | 1945    |         | Fil4    | 1996    | Female  | Married | 72      | 21      | \n",
       "| 1000007 | 1934    |         | Fil1    | 1997    | Male    | Married | 83      | 20      | \n",
       "| 1000008 | 1957    | Dr.     | Fil3    | 1996    | Male    | Single  | 60      | 21      | \n",
       "| 1000009 | 1959    |         | Fil2    | 2001    | Male    | Single  | 58      | 16      | \n",
       "\n",
       "\n"
      ],
      "text/plain": [
       "  CustID  Birthdate Title Branch CustomerSince Gender MaritalStatus Age Royalty\n",
       "1 1000002 1958            Fil1   2000          Male   Married       59  17     \n",
       "2 1000005 1947      Ing.  Fil4   1999          Male   Single        70  18     \n",
       "3 1000006 1945            Fil4   1996          Female Married       72  21     \n",
       "4 1000007 1934            Fil1   1997          Male   Married       83  20     \n",
       "5 1000008 1957      Dr.   Fil3   1996          Male   Single        60  21     \n",
       "6 1000009 1959            Fil2   2001          Male   Single        58  16     "
      ]
     },
     "metadata": {},
     "output_type": "display_data"
    }
   ],
   "source": [
    "##create age and royalty column\n",
    "td$Birthdate=substr(td$Birthdate,start = 6,stop = 9)\n",
    "td$Birthdate=as.numeric(td$Birthdate)\n",
    "td$Age=2017-td$Birthdate\n",
    "td$CustomerSince=substr(td$CustomerSince,start = 6,stop = 9)\n",
    "td$CustomerSince=as.numeric(td$CustomerSince)\n",
    "td$Royalty=2017-td$CustomerSince\n",
    "head(td)"
   ]
  },
  {
   "cell_type": "code",
   "execution_count": 48,
   "metadata": {
    "collapsed": false
   },
   "outputs": [
    {
     "data": {
      "text/html": [
       "0.0239024171487511"
      ],
      "text/latex": [
       "0.0239024171487511"
      ],
      "text/markdown": [
       "0.0239024171487511"
      ],
      "text/plain": [
       "[1] 0.02390242"
      ]
     },
     "metadata": {},
     "output_type": "display_data"
    },
    {
     "data": {
      "text/html": [
       "0.013094757612449"
      ],
      "text/latex": [
       "0.013094757612449"
      ],
      "text/markdown": [
       "0.013094757612449"
      ],
      "text/plain": [
       "[1] 0.01309476"
      ]
     },
     "metadata": {},
     "output_type": "display_data"
    }
   ],
   "source": [
    "##missing data manipulation\n",
    "sum(is.na(td$Age))/nrow(td)\n",
    "sum(is.na(td$Royalty))/nrow(td)"
   ]
  },
  {
   "cell_type": "code",
   "execution_count": 49,
   "metadata": {
    "collapsed": false
   },
   "outputs": [
    {
     "data": {},
     "metadata": {},
     "output_type": "display_data"
    },
    {
     "data": {
      "image/png": "[encoded data removed]",
      "text/plain": [
       "plot without title"
      ]
     },
     "metadata": {},
     "output_type": "display_data"
    }
   ],
   "source": [
    "histogram(na.omit(td$Age),main='Customers age distribution',xlab = 'Age',ylab='Frequency')"
   ]
  },
  {
   "cell_type": "code",
   "execution_count": 50,
   "metadata": {
    "collapsed": false
   },
   "outputs": [
    {
     "data": {},
     "metadata": {},
     "output_type": "display_data"
    },
    {
     "data": {
      "image/png": "[encoded data removed]",
      "text/plain": [
       "plot without title"
      ]
     },
     "metadata": {},
     "output_type": "display_data"
    }
   ],
   "source": [
    "histogram(na.omit(td$Royalty),main='Customers royalty distribution',xlab = 'Membership Years',ylab='Frequency')"
   ]
  },
  {
   "cell_type": "code",
   "execution_count": 51,
   "metadata": {
    "collapsed": false
   },
   "outputs": [
    {
     "data": {},
     "metadata": {},
     "output_type": "display_data"
    },
    {
     "data": {
      "image/png": "[encoded data removed]",
      "text/plain": [
       "plot without title"
      ]
     },
     "metadata": {},
     "output_type": "display_data"
    }
   ],
   "source": [
    "td_sex=sort(table(td$Gender))\n",
    "barchart(td_sex,horizontal = FALSE, main='Gender Comparison', xlab='Sex', ylab='Frequency')"
   ]
  },
  {
   "cell_type": "code",
   "execution_count": 52,
   "metadata": {
    "collapsed": false,
    "scrolled": false
   },
   "outputs": [
    {
     "data": {},
     "metadata": {},
     "output_type": "display_data"
    },
    {
     "data": {
      "image/png": "[encoded data removed]",
      "text/plain": [
       "plot without title"
      ]
     },
     "metadata": {},
     "output_type": "display_data"
    }
   ],
   "source": [
    "#leasing data\n",
    "histogram(ld$Value,main='Leasing Value Explorition',xlab='Leasing Value')"
   ]
  },
  {
   "cell_type": "code",
   "execution_count": 74,
   "metadata": {
    "collapsed": false
   },
   "outputs": [
    {
     "data": {
      "text/html": [
       "<table>\n",
       "<thead><tr><th scope=col>LeasingID</th><th scope=col>CustID</th><th scope=col>StartDate</th><th scope=col>EndDate</th><th scope=col>Value</th><th scope=col>AnnualRate</th></tr></thead>\n",
       "<tbody>\n",
       "\t<tr><td>14309             </td><td>1021021           </td><td>03JUN2006:00:00:00</td><td>06NOV2019:00:00:00</td><td>416659            </td><td>141.901982        </td></tr>\n",
       "\t<tr><td>20256             </td><td>1030630           </td><td>03JUN2006:00:00:00</td><td>05MAY2024:00:00:00</td><td>259553            </td><td>206.17883832      </td></tr>\n",
       "\t<tr><td>21371             </td><td>1032328           </td><td>03JUN2006:00:00:00</td><td>09DEC2014:00:00:00</td><td>708508            </td><td>126.65418946      </td></tr>\n",
       "\t<tr><td> 2273             </td><td>1002070           </td><td>04JUN2006:00:00:00</td><td>09MAR2016:00:00:00</td><td>934375            </td><td>263.01151962      </td></tr>\n",
       "\t<tr><td> 2563             </td><td>1002512           </td><td>04JUN2006:00:00:00</td><td>20MAR2019:00:00:00</td><td>182268            </td><td>182.61406802      </td></tr>\n",
       "\t<tr><td> 4983             </td><td>1006520           </td><td>04JUN2006:00:00:00</td><td>21MAR2023:00:00:00</td><td>332047            </td><td>57.859401727      </td></tr>\n",
       "</tbody>\n",
       "</table>\n"
      ],
      "text/latex": [
       "\\begin{tabular}{r|llllll}\n",
       " LeasingID & CustID & StartDate & EndDate & Value & AnnualRate\\\\\n",
       "\\hline\n",
       "\t 14309              & 1021021            & 03JUN2006:00:00:00 & 06NOV2019:00:00:00 & 416659             & 141.901982        \\\\\n",
       "\t 20256              & 1030630            & 03JUN2006:00:00:00 & 05MAY2024:00:00:00 & 259553             & 206.17883832      \\\\\n",
       "\t 21371              & 1032328            & 03JUN2006:00:00:00 & 09DEC2014:00:00:00 & 708508             & 126.65418946      \\\\\n",
       "\t  2273              & 1002070            & 04JUN2006:00:00:00 & 09MAR2016:00:00:00 & 934375             & 263.01151962      \\\\\n",
       "\t  2563              & 1002512            & 04JUN2006:00:00:00 & 20MAR2019:00:00:00 & 182268             & 182.61406802      \\\\\n",
       "\t  4983              & 1006520            & 04JUN2006:00:00:00 & 21MAR2023:00:00:00 & 332047             & 57.859401727      \\\\\n",
       "\\end{tabular}\n"
      ],
      "text/markdown": [
       "\n",
       "LeasingID | CustID | StartDate | EndDate | Value | AnnualRate | \n",
       "|---|---|---|---|---|---|\n",
       "| 14309              | 1021021            | 03JUN2006:00:00:00 | 06NOV2019:00:00:00 | 416659             | 141.901982         | \n",
       "| 20256              | 1030630            | 03JUN2006:00:00:00 | 05MAY2024:00:00:00 | 259553             | 206.17883832       | \n",
       "| 21371              | 1032328            | 03JUN2006:00:00:00 | 09DEC2014:00:00:00 | 708508             | 126.65418946       | \n",
       "|  2273              | 1002070            | 04JUN2006:00:00:00 | 09MAR2016:00:00:00 | 934375             | 263.01151962       | \n",
       "|  2563              | 1002512            | 04JUN2006:00:00:00 | 20MAR2019:00:00:00 | 182268             | 182.61406802       | \n",
       "|  4983              | 1006520            | 04JUN2006:00:00:00 | 21MAR2023:00:00:00 | 332047             | 57.859401727       | \n",
       "\n",
       "\n"
      ],
      "text/plain": [
       "  LeasingID CustID  StartDate          EndDate            Value  AnnualRate  \n",
       "1 14309     1021021 03JUN2006:00:00:00 06NOV2019:00:00:00 416659 141.901982  \n",
       "2 20256     1030630 03JUN2006:00:00:00 05MAY2024:00:00:00 259553 206.17883832\n",
       "3 21371     1032328 03JUN2006:00:00:00 09DEC2014:00:00:00 708508 126.65418946\n",
       "4  2273     1002070 04JUN2006:00:00:00 09MAR2016:00:00:00 934375 263.01151962\n",
       "5  2563     1002512 04JUN2006:00:00:00 20MAR2019:00:00:00 182268 182.61406802\n",
       "6  4983     1006520 04JUN2006:00:00:00 21MAR2023:00:00:00 332047 57.859401727"
      ]
     },
     "metadata": {},
     "output_type": "display_data"
    }
   ],
   "source": [
    "ld1=ld[!duplicated(ld$CustID),]\n",
    "head(ld1)"
   ]
  },
  {
   "cell_type": "code",
   "execution_count": 75,
   "metadata": {
    "collapsed": false,
    "scrolled": false
   },
   "outputs": [
    {
     "data": {
      "text/html": [
       "<table>\n",
       "<thead><tr><th scope=col>CustID</th><th scope=col>StartDate</th><th scope=col>EndDate</th><th scope=col>Value</th><th scope=col>AnnualRate</th></tr></thead>\n",
       "<tbody>\n",
       "\t<tr><td>1021021           </td><td>03JUN2006:00:00:00</td><td>06NOV2019:00:00:00</td><td>416659            </td><td>141.901982        </td></tr>\n",
       "\t<tr><td>1030630           </td><td>03JUN2006:00:00:00</td><td>05MAY2024:00:00:00</td><td>259553            </td><td>206.17883832      </td></tr>\n",
       "\t<tr><td>1032328           </td><td>03JUN2006:00:00:00</td><td>09DEC2014:00:00:00</td><td>708508            </td><td>126.65418946      </td></tr>\n",
       "\t<tr><td>1002070           </td><td>04JUN2006:00:00:00</td><td>09MAR2016:00:00:00</td><td>934375            </td><td>263.01151962      </td></tr>\n",
       "\t<tr><td>1002512           </td><td>04JUN2006:00:00:00</td><td>20MAR2019:00:00:00</td><td>182268            </td><td>182.61406802      </td></tr>\n",
       "\t<tr><td>1006520           </td><td>04JUN2006:00:00:00</td><td>21MAR2023:00:00:00</td><td>332047            </td><td>57.859401727      </td></tr>\n",
       "</tbody>\n",
       "</table>\n"
      ],
      "text/latex": [
       "\\begin{tabular}{r|lllll}\n",
       " CustID & StartDate & EndDate & Value & AnnualRate\\\\\n",
       "\\hline\n",
       "\t 1021021            & 03JUN2006:00:00:00 & 06NOV2019:00:00:00 & 416659             & 141.901982        \\\\\n",
       "\t 1030630            & 03JUN2006:00:00:00 & 05MAY2024:00:00:00 & 259553             & 206.17883832      \\\\\n",
       "\t 1032328            & 03JUN2006:00:00:00 & 09DEC2014:00:00:00 & 708508             & 126.65418946      \\\\\n",
       "\t 1002070            & 04JUN2006:00:00:00 & 09MAR2016:00:00:00 & 934375             & 263.01151962      \\\\\n",
       "\t 1002512            & 04JUN2006:00:00:00 & 20MAR2019:00:00:00 & 182268             & 182.61406802      \\\\\n",
       "\t 1006520            & 04JUN2006:00:00:00 & 21MAR2023:00:00:00 & 332047             & 57.859401727      \\\\\n",
       "\\end{tabular}\n"
      ],
      "text/markdown": [
       "\n",
       "CustID | StartDate | EndDate | Value | AnnualRate | \n",
       "|---|---|---|---|---|---|\n",
       "| 1021021            | 03JUN2006:00:00:00 | 06NOV2019:00:00:00 | 416659             | 141.901982         | \n",
       "| 1030630            | 03JUN2006:00:00:00 | 05MAY2024:00:00:00 | 259553             | 206.17883832       | \n",
       "| 1032328            | 03JUN2006:00:00:00 | 09DEC2014:00:00:00 | 708508             | 126.65418946       | \n",
       "| 1002070            | 04JUN2006:00:00:00 | 09MAR2016:00:00:00 | 934375             | 263.01151962       | \n",
       "| 1002512            | 04JUN2006:00:00:00 | 20MAR2019:00:00:00 | 182268             | 182.61406802       | \n",
       "| 1006520            | 04JUN2006:00:00:00 | 21MAR2023:00:00:00 | 332047             | 57.859401727       | \n",
       "\n",
       "\n"
      ],
      "text/plain": [
       "  CustID  StartDate          EndDate            Value  AnnualRate  \n",
       "1 1021021 03JUN2006:00:00:00 06NOV2019:00:00:00 416659 141.901982  \n",
       "2 1030630 03JUN2006:00:00:00 05MAY2024:00:00:00 259553 206.17883832\n",
       "3 1032328 03JUN2006:00:00:00 09DEC2014:00:00:00 708508 126.65418946\n",
       "4 1002070 04JUN2006:00:00:00 09MAR2016:00:00:00 934375 263.01151962\n",
       "5 1002512 04JUN2006:00:00:00 20MAR2019:00:00:00 182268 182.61406802\n",
       "6 1006520 04JUN2006:00:00:00 21MAR2023:00:00:00 332047 57.859401727"
      ]
     },
     "metadata": {},
     "output_type": "display_data"
    }
   ],
   "source": [
    "ld1=ld1[-1]\n",
    "head(ld1)"
   ]
  },
  {
   "cell_type": "code",
   "execution_count": 58,
   "metadata": {
    "collapsed": false
   },
   "outputs": [
    {
     "data": {
      "text/html": [
       "<table>\n",
       "<thead><tr><th scope=col>CustID</th><th scope=col>ValueSegment</th><th scope=col>Date</th></tr></thead>\n",
       "<tbody>\n",
       "\t<tr><td>1000148  </td><td>0. NEW   </td><td>01MAY2014</td></tr>\n",
       "\t<tr><td>1000308  </td><td>0. NEW   </td><td>01JUN2014</td></tr>\n",
       "\t<tr><td>1000308  </td><td>0. NEW   </td><td>01JUL2014</td></tr>\n",
       "\t<tr><td>1000308  </td><td>0. NEW   </td><td>01AUG2014</td></tr>\n",
       "\t<tr><td>1000336  </td><td>0. NEW   </td><td>01MAY2014</td></tr>\n",
       "\t<tr><td>1000400  </td><td>0. NEW   </td><td>01JUN2014</td></tr>\n",
       "</tbody>\n",
       "</table>\n"
      ],
      "text/latex": [
       "\\begin{tabular}{r|lll}\n",
       " CustID & ValueSegment & Date\\\\\n",
       "\\hline\n",
       "\t 1000148   & 0. NEW    & 01MAY2014\\\\\n",
       "\t 1000308   & 0. NEW    & 01JUN2014\\\\\n",
       "\t 1000308   & 0. NEW    & 01JUL2014\\\\\n",
       "\t 1000308   & 0. NEW    & 01AUG2014\\\\\n",
       "\t 1000336   & 0. NEW    & 01MAY2014\\\\\n",
       "\t 1000400   & 0. NEW    & 01JUN2014\\\\\n",
       "\\end{tabular}\n"
      ],
      "text/markdown": [
       "\n",
       "CustID | ValueSegment | Date | \n",
       "|---|---|---|---|---|---|\n",
       "| 1000148   | 0. NEW    | 01MAY2014 | \n",
       "| 1000308   | 0. NEW    | 01JUN2014 | \n",
       "| 1000308   | 0. NEW    | 01JUL2014 | \n",
       "| 1000308   | 0. NEW    | 01AUG2014 | \n",
       "| 1000336   | 0. NEW    | 01MAY2014 | \n",
       "| 1000400   | 0. NEW    | 01JUN2014 | \n",
       "\n",
       "\n"
      ],
      "text/plain": [
       "  CustID  ValueSegment Date     \n",
       "1 1000148 0. NEW       01MAY2014\n",
       "2 1000308 0. NEW       01JUN2014\n",
       "3 1000308 0. NEW       01JUL2014\n",
       "4 1000308 0. NEW       01AUG2014\n",
       "5 1000336 0. NEW       01MAY2014\n",
       "6 1000400 0. NEW       01JUN2014"
      ]
     },
     "metadata": {},
     "output_type": "display_data"
    }
   ],
   "source": [
    "sd=sd[-2]\n",
    "head(sd)"
   ]
  },
  {
   "cell_type": "code",
   "execution_count": 60,
   "metadata": {
    "collapsed": false
   },
   "outputs": [
    {
     "data": {},
     "metadata": {},
     "output_type": "display_data"
    },
    {
     "data": {
      "image/png": "[encoded data removed]",
      "text/plain": [
       "plot without title"
      ]
     },
     "metadata": {},
     "output_type": "display_data"
    }
   ],
   "source": [
    "#score data\n",
    "sd_vs=sort(table(sd$ValueSegment))\n",
    "barchart(sd_vs,horizontal = FALSE,main='Value Segment Comparison',xlab='Value Segments',ylab='Frequency')"
   ]
  },
  {
   "cell_type": "code",
   "execution_count": 66,
   "metadata": {
    "collapsed": false
   },
   "outputs": [
    {
     "name": "stderr",
     "output_type": "stream",
     "text": [
      "Using Date as value column: use value.var to override.\n",
      "Aggregation function missing: defaulting to length\n"
     ]
    },
    {
     "data": {
      "text/html": [
       "<table>\n",
       "<thead><tr><th scope=col>CustID</th><th scope=col>0. NEW</th><th scope=col>1. GOLD</th><th scope=col>2. SILVER</th><th scope=col>3. BRONCE</th><th scope=col>4. LEAD</th><th scope=col>8. LOST</th><th scope=col>9. UNDEFINED</th></tr></thead>\n",
       "<tbody>\n",
       "\t<tr><td>1000002</td><td>0      </td><td>1      </td><td>4      </td><td>2      </td><td>0      </td><td>1      </td><td>0      </td></tr>\n",
       "\t<tr><td>1000005</td><td>0      </td><td>1      </td><td>0      </td><td>4      </td><td>0      </td><td>0      </td><td>0      </td></tr>\n",
       "\t<tr><td>1000006</td><td>0      </td><td>2      </td><td>1      </td><td>5      </td><td>0      </td><td>0      </td><td>0      </td></tr>\n",
       "\t<tr><td>1000007</td><td>0      </td><td>3      </td><td>5      </td><td>0      </td><td>0      </td><td>0      </td><td>0      </td></tr>\n",
       "\t<tr><td>1000008</td><td>0      </td><td>2      </td><td>4      </td><td>2      </td><td>0      </td><td>0      </td><td>0      </td></tr>\n",
       "\t<tr><td>1000009</td><td>0      </td><td>2      </td><td>0      </td><td>5      </td><td>1      </td><td>0      </td><td>0      </td></tr>\n",
       "</tbody>\n",
       "</table>\n"
      ],
      "text/latex": [
       "\\begin{tabular}{r|llllllll}\n",
       " CustID & 0. NEW & 1. GOLD & 2. SILVER & 3. BRONCE & 4. LEAD & 8. LOST & 9. UNDEFINED\\\\\n",
       "\\hline\n",
       "\t 1000002 & 0       & 1       & 4       & 2       & 0       & 1       & 0      \\\\\n",
       "\t 1000005 & 0       & 1       & 0       & 4       & 0       & 0       & 0      \\\\\n",
       "\t 1000006 & 0       & 2       & 1       & 5       & 0       & 0       & 0      \\\\\n",
       "\t 1000007 & 0       & 3       & 5       & 0       & 0       & 0       & 0      \\\\\n",
       "\t 1000008 & 0       & 2       & 4       & 2       & 0       & 0       & 0      \\\\\n",
       "\t 1000009 & 0       & 2       & 0       & 5       & 1       & 0       & 0      \\\\\n",
       "\\end{tabular}\n"
      ],
      "text/markdown": [
       "\n",
       "CustID | 0. NEW | 1. GOLD | 2. SILVER | 3. BRONCE | 4. LEAD | 8. LOST | 9. UNDEFINED | \n",
       "|---|---|---|---|---|---|\n",
       "| 1000002 | 0       | 1       | 4       | 2       | 0       | 1       | 0       | \n",
       "| 1000005 | 0       | 1       | 0       | 4       | 0       | 0       | 0       | \n",
       "| 1000006 | 0       | 2       | 1       | 5       | 0       | 0       | 0       | \n",
       "| 1000007 | 0       | 3       | 5       | 0       | 0       | 0       | 0       | \n",
       "| 1000008 | 0       | 2       | 4       | 2       | 0       | 0       | 0       | \n",
       "| 1000009 | 0       | 2       | 0       | 5       | 1       | 0       | 0       | \n",
       "\n",
       "\n"
      ],
      "text/plain": [
       "  CustID  0. NEW 1. GOLD 2. SILVER 3. BRONCE 4. LEAD 8. LOST 9. UNDEFINED\n",
       "1 1000002 0      1       4         2         0       1       0           \n",
       "2 1000005 0      1       0         4         0       0       0           \n",
       "3 1000006 0      2       1         5         0       0       0           \n",
       "4 1000007 0      3       5         0         0       0       0           \n",
       "5 1000008 0      2       4         2         0       0       0           \n",
       "6 1000009 0      2       0         5         1       0       0           "
      ]
     },
     "metadata": {},
     "output_type": "display_data"
    }
   ],
   "source": [
    "sd1=dcast(sd,CustID~ValueSegment)\n",
    "head(sd1)"
   ]
  },
  {
   "cell_type": "code",
   "execution_count": 76,
   "metadata": {
    "collapsed": false
   },
   "outputs": [
    {
     "data": {
      "text/html": [
       "<table>\n",
       "<thead><tr><th scope=col>CustID</th><th scope=col>Birthdate</th><th scope=col>Title</th><th scope=col>Branch</th><th scope=col>CustomerSince</th><th scope=col>Gender</th><th scope=col>MaritalStatus</th><th scope=col>Age</th><th scope=col>Royalty</th><th scope=col>Funds</th><th scope=col>...</th><th scope=col>1. GOLD</th><th scope=col>2. SILVER</th><th scope=col>3. BRONCE</th><th scope=col>4. LEAD</th><th scope=col>8. LOST</th><th scope=col>9. UNDEFINED</th><th scope=col>StartDate</th><th scope=col>EndDate</th><th scope=col>Value</th><th scope=col>AnnualRate</th></tr></thead>\n",
       "<tbody>\n",
       "\t<tr><td>1000002           </td><td>1958              </td><td>                  </td><td>Fil1              </td><td>2000              </td><td>Male              </td><td>Married           </td><td>59                </td><td>17                </td><td>0                 </td><td>...               </td><td>1                 </td><td>4                 </td><td>2                 </td><td>0                 </td><td>1                 </td><td>0                 </td><td>12SEP2010:00:00:00</td><td>03APR2015:00:00:00</td><td>521763            </td><td>254.69454187      </td></tr>\n",
       "\t<tr><td>1000005           </td><td>1947              </td><td>Ing.              </td><td>Fil4              </td><td>1999              </td><td>Male              </td><td>Single            </td><td>70                </td><td>18                </td><td>0                 </td><td>...               </td><td>1                 </td><td>0                 </td><td>4                 </td><td>0                 </td><td>0                 </td><td>0                 </td><td>17FEB2013:00:00:00</td><td>22JAN2020:00:00:00</td><td>855215            </td><td>232.51593453      </td></tr>\n",
       "\t<tr><td>1000006           </td><td>1945              </td><td>                  </td><td>Fil4              </td><td>1996              </td><td>Female            </td><td>Married           </td><td>72                </td><td>21                </td><td>1                 </td><td>...               </td><td>2                 </td><td>1                 </td><td>5                 </td><td>0                 </td><td>0                 </td><td>0                 </td><td>25FEB2013:00:00:00</td><td>17APR2028:00:00:00</td><td>560362            </td><td>167.36627547      </td></tr>\n",
       "\t<tr><td>1000007           </td><td>1934              </td><td>                  </td><td>Fil1              </td><td>1997              </td><td>Male              </td><td>Married           </td><td>83                </td><td>20                </td><td>1                 </td><td>...               </td><td>3                 </td><td>5                 </td><td>0                 </td><td>0                 </td><td>0                 </td><td>0                 </td><td>06OCT2010:00:00:00</td><td>07OCT2018:00:00:00</td><td>950047            </td><td>84.376219214      </td></tr>\n",
       "\t<tr><td>1000008           </td><td>1957              </td><td>Dr.               </td><td>Fil3              </td><td>1996              </td><td>Male              </td><td>Single            </td><td>60                </td><td>21                </td><td>1                 </td><td>...               </td><td>2                 </td><td>4                 </td><td>2                 </td><td>0                 </td><td>0                 </td><td>0                 </td><td>19OCT2010:00:00:00</td><td>16APR2020:00:00:00</td><td>  5276            </td><td>109.1474312       </td></tr>\n",
       "\t<tr><td>1000009           </td><td>1959              </td><td>                  </td><td>Fil2              </td><td>2001              </td><td>Male              </td><td>Single            </td><td>58                </td><td>16                </td><td>1                 </td><td>...               </td><td>2                 </td><td>0                 </td><td>5                 </td><td>1                 </td><td>0                 </td><td>0                 </td><td>15OCT2009:00:00:00</td><td>20MAR2016:00:00:00</td><td>243731            </td><td>85.069300694      </td></tr>\n",
       "</tbody>\n",
       "</table>\n"
      ],
      "text/latex": [
       "\\begin{tabular}{r|llllllllllllllllllllllllll}\n",
       " CustID & Birthdate & Title & Branch & CustomerSince & Gender & MaritalStatus & Age & Royalty & Funds & ... & 1. GOLD & 2. SILVER & 3. BRONCE & 4. LEAD & 8. LOST & 9. UNDEFINED & StartDate & EndDate & Value & AnnualRate\\\\\n",
       "\\hline\n",
       "\t 1000002            & 1958               &                    & Fil1               & 2000               & Male               & Married            & 59                 & 17                 & 0                  & ...                & 1                  & 4                  & 2                  & 0                  & 1                  & 0                  & 12SEP2010:00:00:00 & 03APR2015:00:00:00 & 521763             & 254.69454187      \\\\\n",
       "\t 1000005            & 1947               & Ing.               & Fil4               & 1999               & Male               & Single             & 70                 & 18                 & 0                  & ...                & 1                  & 0                  & 4                  & 0                  & 0                  & 0                  & 17FEB2013:00:00:00 & 22JAN2020:00:00:00 & 855215             & 232.51593453      \\\\\n",
       "\t 1000006            & 1945               &                    & Fil4               & 1996               & Female             & Married            & 72                 & 21                 & 1                  & ...                & 2                  & 1                  & 5                  & 0                  & 0                  & 0                  & 25FEB2013:00:00:00 & 17APR2028:00:00:00 & 560362             & 167.36627547      \\\\\n",
       "\t 1000007            & 1934               &                    & Fil1               & 1997               & Male               & Married            & 83                 & 20                 & 1                  & ...                & 3                  & 5                  & 0                  & 0                  & 0                  & 0                  & 06OCT2010:00:00:00 & 07OCT2018:00:00:00 & 950047             & 84.376219214      \\\\\n",
       "\t 1000008            & 1957               & Dr.                & Fil3               & 1996               & Male               & Single             & 60                 & 21                 & 1                  & ...                & 2                  & 4                  & 2                  & 0                  & 0                  & 0                  & 19OCT2010:00:00:00 & 16APR2020:00:00:00 &   5276             & 109.1474312       \\\\\n",
       "\t 1000009            & 1959               &                    & Fil2               & 2001               & Male               & Single             & 58                 & 16                 & 1                  & ...                & 2                  & 0                  & 5                  & 1                  & 0                  & 0                  & 15OCT2009:00:00:00 & 20MAR2016:00:00:00 & 243731             & 85.069300694      \\\\\n",
       "\\end{tabular}\n"
      ],
      "text/markdown": [
       "\n",
       "CustID | Birthdate | Title | Branch | CustomerSince | Gender | MaritalStatus | Age | Royalty | Funds | ... | 1. GOLD | 2. SILVER | 3. BRONCE | 4. LEAD | 8. LOST | 9. UNDEFINED | StartDate | EndDate | Value | AnnualRate | \n",
       "|---|---|---|---|---|---|\n",
       "| 1000002            | 1958               |                    | Fil1               | 2000               | Male               | Married            | 59                 | 17                 | 0                  | ...                | 1                  | 4                  | 2                  | 0                  | 1                  | 0                  | 12SEP2010:00:00:00 | 03APR2015:00:00:00 | 521763             | 254.69454187       | \n",
       "| 1000005            | 1947               | Ing.               | Fil4               | 1999               | Male               | Single             | 70                 | 18                 | 0                  | ...                | 1                  | 0                  | 4                  | 0                  | 0                  | 0                  | 17FEB2013:00:00:00 | 22JAN2020:00:00:00 | 855215             | 232.51593453       | \n",
       "| 1000006            | 1945               |                    | Fil4               | 1996               | Female             | Married            | 72                 | 21                 | 1                  | ...                | 2                  | 1                  | 5                  | 0                  | 0                  | 0                  | 25FEB2013:00:00:00 | 17APR2028:00:00:00 | 560362             | 167.36627547       | \n",
       "| 1000007            | 1934               |                    | Fil1               | 1997               | Male               | Married            | 83                 | 20                 | 1                  | ...                | 3                  | 5                  | 0                  | 0                  | 0                  | 0                  | 06OCT2010:00:00:00 | 07OCT2018:00:00:00 | 950047             | 84.376219214       | \n",
       "| 1000008            | 1957               | Dr.                | Fil3               | 1996               | Male               | Single             | 60                 | 21                 | 1                  | ...                | 2                  | 4                  | 2                  | 0                  | 0                  | 0                  | 19OCT2010:00:00:00 | 16APR2020:00:00:00 |   5276             | 109.1474312        | \n",
       "| 1000009            | 1959               |                    | Fil2               | 2001               | Male               | Single             | 58                 | 16                 | 1                  | ...                | 2                  | 0                  | 5                  | 1                  | 0                  | 0                  | 15OCT2009:00:00:00 | 20MAR2016:00:00:00 | 243731             | 85.069300694       | \n",
       "\n",
       "\n"
      ],
      "text/plain": [
       "  CustID  Birthdate Title Branch CustomerSince Gender MaritalStatus Age Royalty\n",
       "1 1000002 1958            Fil1   2000          Male   Married       59  17     \n",
       "2 1000005 1947      Ing.  Fil4   1999          Male   Single        70  18     \n",
       "3 1000006 1945            Fil4   1996          Female Married       72  21     \n",
       "4 1000007 1934            Fil1   1997          Male   Married       83  20     \n",
       "5 1000008 1957      Dr.   Fil3   1996          Male   Single        60  21     \n",
       "6 1000009 1959            Fil2   2001          Male   Single        58  16     \n",
       "  Funds ... 1. GOLD 2. SILVER 3. BRONCE 4. LEAD 8. LOST 9. UNDEFINED\n",
       "1 0     ... 1       4         2         0       1       0           \n",
       "2 0     ... 1       0         4         0       0       0           \n",
       "3 1     ... 2       1         5         0       0       0           \n",
       "4 1     ... 3       5         0         0       0       0           \n",
       "5 1     ... 2       4         2         0       0       0           \n",
       "6 1     ... 2       0         5         1       0       0           \n",
       "  StartDate          EndDate            Value  AnnualRate  \n",
       "1 12SEP2010:00:00:00 03APR2015:00:00:00 521763 254.69454187\n",
       "2 17FEB2013:00:00:00 22JAN2020:00:00:00 855215 232.51593453\n",
       "3 25FEB2013:00:00:00 17APR2028:00:00:00 560362 167.36627547\n",
       "4 06OCT2010:00:00:00 07OCT2018:00:00:00 950047 84.376219214\n",
       "5 19OCT2010:00:00:00 16APR2020:00:00:00   5276 109.1474312 \n",
       "6 15OCT2009:00:00:00 20MAR2016:00:00:00 243731 85.069300694"
      ]
     },
     "metadata": {},
     "output_type": "display_data"
    }
   ],
   "source": [
    "tt=merge(td,ad1,by='CustID',all.td=TRUE)\n",
    "tt=merge(tt,cd1,by='CustID',all.x=TRUE)\n",
    "tt=merge(tt,sd1,by='CustID',all.x=TRUE)\n",
    "tt=merge(tt,ld1,by='CustID',all.x=TRUE)\n",
    "head(tt)"
   ]
  },
  {
   "cell_type": "code",
   "execution_count": 78,
   "metadata": {
    "collapsed": false
   },
   "outputs": [
    {
     "data": {
      "text/html": [
       "<table>\n",
       "<thead><tr><th scope=col>CustID</th><th scope=col>Birthdate</th><th scope=col>CustomerSince</th><th scope=col>Gender</th><th scope=col>MaritalStatus</th><th scope=col>Age</th><th scope=col>Royalty</th><th scope=col>Funds</th><th scope=col>Saving Account</th><th scope=col>Request</th><th scope=col>...</th><th scope=col>1. GOLD</th><th scope=col>2. SILVER</th><th scope=col>3. BRONCE</th><th scope=col>4. LEAD</th><th scope=col>8. LOST</th><th scope=col>9. UNDEFINED</th><th scope=col>StartDate</th><th scope=col>EndDate</th><th scope=col>Value</th><th scope=col>AnnualRate</th></tr></thead>\n",
       "<tbody>\n",
       "\t<tr><td>1000002           </td><td>1958              </td><td>2000              </td><td>Male              </td><td>Married           </td><td>59                </td><td>17                </td><td>0                 </td><td>1                 </td><td>NA                </td><td>...               </td><td>1                 </td><td>4                 </td><td>2                 </td><td>0                 </td><td>1                 </td><td>0                 </td><td>12SEP2010:00:00:00</td><td>03APR2015:00:00:00</td><td>521763            </td><td>254.69454187      </td></tr>\n",
       "\t<tr><td>1000005           </td><td>1947              </td><td>1999              </td><td>Male              </td><td>Single            </td><td>70                </td><td>18                </td><td>0                 </td><td>1                 </td><td>NA                </td><td>...               </td><td>1                 </td><td>0                 </td><td>4                 </td><td>0                 </td><td>0                 </td><td>0                 </td><td>17FEB2013:00:00:00</td><td>22JAN2020:00:00:00</td><td>855215            </td><td>232.51593453      </td></tr>\n",
       "\t<tr><td>1000006           </td><td>1945              </td><td>1996              </td><td>Female            </td><td>Married           </td><td>72                </td><td>21                </td><td>1                 </td><td>0                 </td><td>NA                </td><td>...               </td><td>2                 </td><td>1                 </td><td>5                 </td><td>0                 </td><td>0                 </td><td>0                 </td><td>25FEB2013:00:00:00</td><td>17APR2028:00:00:00</td><td>560362            </td><td>167.36627547      </td></tr>\n",
       "\t<tr><td>1000007           </td><td>1934              </td><td>1997              </td><td>Male              </td><td>Married           </td><td>83                </td><td>20                </td><td>1                 </td><td>1                 </td><td>NA                </td><td>...               </td><td>3                 </td><td>5                 </td><td>0                 </td><td>0                 </td><td>0                 </td><td>0                 </td><td>06OCT2010:00:00:00</td><td>07OCT2018:00:00:00</td><td>950047            </td><td>84.376219214      </td></tr>\n",
       "\t<tr><td>1000008           </td><td>1957              </td><td>1996              </td><td>Male              </td><td>Single            </td><td>60                </td><td>21                </td><td>1                 </td><td>0                 </td><td>NA                </td><td>...               </td><td>2                 </td><td>4                 </td><td>2                 </td><td>0                 </td><td>0                 </td><td>0                 </td><td>19OCT2010:00:00:00</td><td>16APR2020:00:00:00</td><td>  5276            </td><td>109.1474312       </td></tr>\n",
       "\t<tr><td>1000009           </td><td>1959              </td><td>2001              </td><td>Male              </td><td>Single            </td><td>58                </td><td>16                </td><td>1                 </td><td>1                 </td><td>NA                </td><td>...               </td><td>2                 </td><td>0                 </td><td>5                 </td><td>1                 </td><td>0                 </td><td>0                 </td><td>15OCT2009:00:00:00</td><td>20MAR2016:00:00:00</td><td>243731            </td><td>85.069300694      </td></tr>\n",
       "</tbody>\n",
       "</table>\n"
      ],
      "text/latex": [
       "\\begin{tabular}{r|llllllllllllllllllllll}\n",
       " CustID & Birthdate & CustomerSince & Gender & MaritalStatus & Age & Royalty & Funds & Saving Account & Request & ... & 1. GOLD & 2. SILVER & 3. BRONCE & 4. LEAD & 8. LOST & 9. UNDEFINED & StartDate & EndDate & Value & AnnualRate\\\\\n",
       "\\hline\n",
       "\t 1000002            & 1958               & 2000               & Male               & Married            & 59                 & 17                 & 0                  & 1                  & NA                 & ...                & 1                  & 4                  & 2                  & 0                  & 1                  & 0                  & 12SEP2010:00:00:00 & 03APR2015:00:00:00 & 521763             & 254.69454187      \\\\\n",
       "\t 1000005            & 1947               & 1999               & Male               & Single             & 70                 & 18                 & 0                  & 1                  & NA                 & ...                & 1                  & 0                  & 4                  & 0                  & 0                  & 0                  & 17FEB2013:00:00:00 & 22JAN2020:00:00:00 & 855215             & 232.51593453      \\\\\n",
       "\t 1000006            & 1945               & 1996               & Female             & Married            & 72                 & 21                 & 1                  & 0                  & NA                 & ...                & 2                  & 1                  & 5                  & 0                  & 0                  & 0                  & 25FEB2013:00:00:00 & 17APR2028:00:00:00 & 560362             & 167.36627547      \\\\\n",
       "\t 1000007            & 1934               & 1997               & Male               & Married            & 83                 & 20                 & 1                  & 1                  & NA                 & ...                & 3                  & 5                  & 0                  & 0                  & 0                  & 0                  & 06OCT2010:00:00:00 & 07OCT2018:00:00:00 & 950047             & 84.376219214      \\\\\n",
       "\t 1000008            & 1957               & 1996               & Male               & Single             & 60                 & 21                 & 1                  & 0                  & NA                 & ...                & 2                  & 4                  & 2                  & 0                  & 0                  & 0                  & 19OCT2010:00:00:00 & 16APR2020:00:00:00 &   5276             & 109.1474312       \\\\\n",
       "\t 1000009            & 1959               & 2001               & Male               & Single             & 58                 & 16                 & 1                  & 1                  & NA                 & ...                & 2                  & 0                  & 5                  & 1                  & 0                  & 0                  & 15OCT2009:00:00:00 & 20MAR2016:00:00:00 & 243731             & 85.069300694      \\\\\n",
       "\\end{tabular}\n"
      ],
      "text/markdown": [
       "\n",
       "CustID | Birthdate | CustomerSince | Gender | MaritalStatus | Age | Royalty | Funds | Saving Account | Request | ... | 1. GOLD | 2. SILVER | 3. BRONCE | 4. LEAD | 8. LOST | 9. UNDEFINED | StartDate | EndDate | Value | AnnualRate | \n",
       "|---|---|---|---|---|---|\n",
       "| 1000002            | 1958               | 2000               | Male               | Married            | 59                 | 17                 | 0                  | 1                  | NA                 | ...                | 1                  | 4                  | 2                  | 0                  | 1                  | 0                  | 12SEP2010:00:00:00 | 03APR2015:00:00:00 | 521763             | 254.69454187       | \n",
       "| 1000005            | 1947               | 1999               | Male               | Single             | 70                 | 18                 | 0                  | 1                  | NA                 | ...                | 1                  | 0                  | 4                  | 0                  | 0                  | 0                  | 17FEB2013:00:00:00 | 22JAN2020:00:00:00 | 855215             | 232.51593453       | \n",
       "| 1000006            | 1945               | 1996               | Female             | Married            | 72                 | 21                 | 1                  | 0                  | NA                 | ...                | 2                  | 1                  | 5                  | 0                  | 0                  | 0                  | 25FEB2013:00:00:00 | 17APR2028:00:00:00 | 560362             | 167.36627547       | \n",
       "| 1000007            | 1934               | 1997               | Male               | Married            | 83                 | 20                 | 1                  | 1                  | NA                 | ...                | 3                  | 5                  | 0                  | 0                  | 0                  | 0                  | 06OCT2010:00:00:00 | 07OCT2018:00:00:00 | 950047             | 84.376219214       | \n",
       "| 1000008            | 1957               | 1996               | Male               | Single             | 60                 | 21                 | 1                  | 0                  | NA                 | ...                | 2                  | 4                  | 2                  | 0                  | 0                  | 0                  | 19OCT2010:00:00:00 | 16APR2020:00:00:00 |   5276             | 109.1474312        | \n",
       "| 1000009            | 1959               | 2001               | Male               | Single             | 58                 | 16                 | 1                  | 1                  | NA                 | ...                | 2                  | 0                  | 5                  | 1                  | 0                  | 0                  | 15OCT2009:00:00:00 | 20MAR2016:00:00:00 | 243731             | 85.069300694       | \n",
       "\n",
       "\n"
      ],
      "text/plain": [
       "  CustID  Birthdate CustomerSince Gender MaritalStatus Age Royalty Funds\n",
       "1 1000002 1958      2000          Male   Married       59  17      0    \n",
       "2 1000005 1947      1999          Male   Single        70  18      0    \n",
       "3 1000006 1945      1996          Female Married       72  21      1    \n",
       "4 1000007 1934      1997          Male   Married       83  20      1    \n",
       "5 1000008 1957      1996          Male   Single        60  21      1    \n",
       "6 1000009 1959      2001          Male   Single        58  16      1    \n",
       "  Saving Account Request ... 1. GOLD 2. SILVER 3. BRONCE 4. LEAD 8. LOST\n",
       "1 1              NA      ... 1       4         2         0       1      \n",
       "2 1              NA      ... 1       0         4         0       0      \n",
       "3 0              NA      ... 2       1         5         0       0      \n",
       "4 1              NA      ... 3       5         0         0       0      \n",
       "5 0              NA      ... 2       4         2         0       0      \n",
       "6 1              NA      ... 2       0         5         1       0      \n",
       "  9. UNDEFINED StartDate          EndDate            Value  AnnualRate  \n",
       "1 0            12SEP2010:00:00:00 03APR2015:00:00:00 521763 254.69454187\n",
       "2 0            17FEB2013:00:00:00 22JAN2020:00:00:00 855215 232.51593453\n",
       "3 0            25FEB2013:00:00:00 17APR2028:00:00:00 560362 167.36627547\n",
       "4 0            06OCT2010:00:00:00 07OCT2018:00:00:00 950047 84.376219214\n",
       "5 0            19OCT2010:00:00:00 16APR2020:00:00:00   5276 109.1474312 \n",
       "6 0            15OCT2009:00:00:00 20MAR2016:00:00:00 243731 85.069300694"
      ]
     },
     "metadata": {},
     "output_type": "display_data"
    },
    {
     "data": {
      "text/html": [
       "22299"
      ],
      "text/latex": [
       "22299"
      ],
      "text/markdown": [
       "22299"
      ],
      "text/plain": [
       "[1] 22299"
      ]
     },
     "metadata": {},
     "output_type": "display_data"
    }
   ],
   "source": [
    "tt=tt[c(-3,-11)]\n",
    "head(tt)\n",
    "nrow(tt)"
   ]
  },
  {
   "cell_type": "code",
   "execution_count": 80,
   "metadata": {
    "collapsed": false
   },
   "outputs": [],
   "source": [
    "write.csv(tt,'C:\\\\Users\\\\Daniel\\\\Google Drive\\\\Projects\\\\MYB case\\\\MYB.csv')"
   ]
  },
  {
   "cell_type": "code",
   "execution_count": null,
   "metadata": {
    "collapsed": true
   },
   "outputs": [],
   "source": []
  }
 ],
 "metadata": {
  "anaconda-cloud": {
   "environment": null,
   "url": "https://anaconda.org/jacklxf/myb_case_preparation"
  },
  "kernelspec": {
   "display_name": "R",
   "language": "R",
   "name": "ir"
  },
  "language_info": {
   "codemirror_mode": "r",
   "file_extension": ".r",
   "mimetype": "text/x-r-source",
   "name": "R",
   "pygments_lexer": "r",
   "version": "3.3.2"
  }
 },
 "nbformat": 4,
 "nbformat_minor": 1
}
